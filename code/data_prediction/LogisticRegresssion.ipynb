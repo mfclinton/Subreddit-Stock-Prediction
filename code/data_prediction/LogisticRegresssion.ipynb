{
 "cells": [
  {
   "cell_type": "code",
   "execution_count": 27,
   "id": "61c1e41c-5e2d-45da-9b74-3a9db7343985",
   "metadata": {},
   "outputs": [],
   "source": [
    "import pandas as pd\n",
    "import numpy\n",
    "import os\n",
    "import matplotlib.pyplot as plt\n",
    "from sklearn.model_selection import train_test_split\n",
    "from sklearn.linear_model import LogisticRegression\n",
    "from sklearn import preprocessing"
   ]
  },
  {
   "cell_type": "code",
   "execution_count": 2,
   "id": "b8cd4225-682f-41bc-b2a9-5c8e83efeff7",
   "metadata": {},
   "outputs": [
    {
     "name": "stdout",
     "output_type": "stream",
     "text": [
      "D:\\Programming\\Subreddit-Stock-Prediction\n"
     ]
    }
   ],
   "source": [
    "os.chdir('..')\n",
    "os.chdir('..')\n",
    "cwd = os.getcwd()\n",
    "print(cwd)"
   ]
  },
  {
   "cell_type": "code",
   "execution_count": 32,
   "id": "fb5e2b13-002a-401a-baba-c695032f81e8",
   "metadata": {},
   "outputs": [
    {
     "name": "stdout",
     "output_type": "stream",
     "text": [
      "--------------daytrading_features_labels.csv-------------\n",
      "(168, 6)\n",
      "Class Percentages 0.20930232558139536 0.5581395348837209 0.23255813953488372\n",
      "0.6046511627906976\n",
      "Class Predictions 0.06976744186046512 0.8837209302325582 0.046511627906976744\n",
      "--------------dividends_features_labels.csv-------------\n",
      "(83, 6)\n",
      "Class Percentages 0.14285714285714285 0.6190476190476191 0.23809523809523808\n",
      "0.5714285714285714\n",
      "Class Predictions 0.047619047619047616 0.9523809523809523 0.0\n",
      "--------------economy_features_labels.csv-------------\n",
      "(15, 6)\n",
      "Class Percentages 0.25 0.75 0.0\n",
      "0.75\n",
      "Class Predictions 0.0 1.0 0.0\n",
      "--------------investing_features_labels.csv-------------\n",
      "(1882, 6)\n",
      "Class Percentages 0.2059447983014862 0.6178343949044586 0.1762208067940552\n",
      "0.6220806794055201\n",
      "Class Predictions 0.012738853503184714 0.9830148619957537 0.004246284501061571\n",
      "--------------options_features_labels.csv-------------\n",
      "(1137, 6)\n",
      "Class Percentages 0.23508771929824562 0.512280701754386 0.25263157894736843\n",
      "0.512280701754386\n",
      "Class Predictions 0.0035087719298245615 0.9894736842105263 0.007017543859649123\n",
      "--------------securityanalysis_features_labels.csv-------------\n",
      "(53, 6)\n",
      "Class Percentages 0.21428571428571427 0.35714285714285715 0.42857142857142855\n",
      "0.42857142857142855\n",
      "Class Predictions 0.0 0.9285714285714286 0.07142857142857142\n",
      "--------------stockmarket_features_labels.csv-------------\n",
      "(596, 6)\n",
      "Class Percentages 0.20134228187919462 0.5436241610738255 0.2550335570469799\n",
      "0.5369127516778524\n",
      "Class Predictions 0.006711409395973154 0.9731543624161074 0.020134228187919462\n",
      "--------------stocks_features_labels.csv-------------\n",
      "(3308, 6)\n",
      "Class Percentages 0.22007255139056833 0.5743651753325272 0.20556227327690446\n",
      "0.5731559854897219\n",
      "Class Predictions 0.013301088270858524 0.9746070133010882 0.012091898428053204\n"
     ]
    }
   ],
   "source": [
    "for filename in os.listdir(\"data\"):\n",
    "    if not filename.endswith(\"_features_labels.csv\"):\n",
    "        continue\n",
    "    print(f\"--------------{filename}-------------\")\n",
    "    data = pd.read_csv(f\"data/{filename}\")\n",
    "    features = data.to_numpy()[:,:-2]\n",
    "    labels = data.to_numpy()[:,-2]\n",
    "    num_features = features.shape[1]\n",
    "\n",
    "    X_train, X_test, y_train, y_test = train_test_split(features, labels, test_size=0.2)\n",
    "    \n",
    "    print(X_train.shape)\n",
    "    \n",
    "    scaler = preprocessing.StandardScaler().fit(X_train)\n",
    "    \n",
    "    clf = LogisticRegression(random_state=0, solver='saga', max_iter=1000).fit(scaler.transform(X_train), y_train)\n",
    "    \n",
    "    print(\"Class Percentages\", (y_test == -1).sum() / y_test.shape[0], (y_test == 0).sum() / y_test.shape[0], (y_test == 1).sum() / y_test.shape[0])\n",
    "#     print(clf.predict_proba(X_test))\n",
    "    print(clf.score(scaler.transform(X_test), y_test))\n",
    "    preds = clf.predict(scaler.transform(X_test))\n",
    "    print(\"Class Predictions\", (preds == -1).sum() / preds.shape[0], (preds == 0).sum() / preds.shape[0], (preds == 1).sum() / preds.shape[0])\n",
    "    "
   ]
  }
 ],
 "metadata": {
  "kernelspec": {
   "display_name": "Python 3",
   "language": "python",
   "name": "python3"
  },
  "language_info": {
   "codemirror_mode": {
    "name": "ipython",
    "version": 3
   },
   "file_extension": ".py",
   "mimetype": "text/x-python",
   "name": "python",
   "nbconvert_exporter": "python",
   "pygments_lexer": "ipython3",
   "version": "3.7.4"
  }
 },
 "nbformat": 4,
 "nbformat_minor": 5
}
