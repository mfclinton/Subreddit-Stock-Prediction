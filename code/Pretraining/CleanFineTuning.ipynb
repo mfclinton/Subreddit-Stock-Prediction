{
 "cells": [
  {
   "cell_type": "code",
   "execution_count": 1,
   "id": "421187a1-d9e4-45fc-8f2f-9b2a38fbe2e5",
   "metadata": {},
   "outputs": [],
   "source": [
    "import pandas as pd\n",
    "import glob\n",
    "import numpy as np\n",
    "from scipy import stats"
   ]
  },
  {
   "cell_type": "code",
   "execution_count": 2,
   "id": "3423d8ec-06a4-46a3-be93-ffed5eeceb93",
   "metadata": {},
   "outputs": [],
   "source": [
    "def get_label(x):\n",
    "    if x[0][2] == 'NL':\n",
    "        return -1\n",
    "    x = np.array(x)\n",
    "    label = stats.mode(x[:, 2])[0]\n",
    "    if len(label) > 1:\n",
    "        print(label)\n",
    "    if 'bullish' in label:\n",
    "        return 2\n",
    "    if 'bearish' in label:\n",
    "        return 0\n",
    "    else:\n",
    "        return 1\n",
    "    return stats.mode(x[:, 2])[0][0]"
   ]
  },
  {
   "cell_type": "code",
   "execution_count": 3,
   "id": "3ff00252-5e7c-4c49-ab9b-cd1a45b066e7",
   "metadata": {},
   "outputs": [
    {
     "name": "stdout",
     "output_type": "stream",
     "text": [
      "daytrading\n",
      "dividends\n",
      "investing\n",
      "options\n",
      "securityanalysis\n",
      "stockmarket\n",
      "stocks\n"
     ]
    }
   ],
   "source": [
    "frames = []\n",
    "for f in glob.glob('../../Data/SentimentData/*/all.jsonl'):\n",
    "    print(f[25:-10])\n",
    "    df = pd.read_json(f, lines=True)\n",
    "    df = df.loc[np.array(list(map(len,df['label'].values)))>0]\n",
    "    df['sent'] = df['label'].apply(get_label)\n",
    "    df = df[df['sent'] >= 0]\n",
    "    df.to_json(f[:-10] + '/filtered.jsonl', lines=True, orient='records')\n",
    "    frames.append(df[[\"data\", \"sent\"]])\n",
    "    "
   ]
  },
  {
   "cell_type": "code",
   "execution_count": 11,
   "id": "e50838d8-9f92-4aa0-902a-8f1d77c4f9a7",
   "metadata": {},
   "outputs": [],
   "source": [
    "df = pd.concat(frames, ignore_index=True)\n",
    "df[['text', 'label']] = df[['data', 'sent']]\n",
    "df['text'] = df['text'].apply(lambda x: x.replace('\\n', \" \"))\n",
    "df['text'] = df['text'].apply(lambda x: x.replace('\\r', \" \"))\n",
    "df['text'] = df['text'].apply(lambda x: x.replace('\"\"', \"'\"))\n",
    "df = df.sample(frac=1).reset_index(drop=True)\n",
    "rows = len(df.index)\n",
    "\n",
    "df[['text', 'label']].iloc[:int(rows*.8)].to_csv('../../Data/SentimentData/sentiment_train.tsv', sep='\\t', index=False)\n",
    "df[['text', 'label']].iloc[int(rows*.8):].to_csv('../../Data/SentimentData/sentiment_test.tsv', sep='\\t', index=False)                           "
   ]
  },
  {
   "cell_type": "code",
   "execution_count": 17,
   "id": "25b721e3-16e8-4826-bf89-f10e887e3e96",
   "metadata": {},
   "outputs": [
    {
     "data": {
      "text/plain": [
       "0      Big trades from today - and watches going into...\n",
       "1      Day trading McDonald's?\\nI've been doing stock...\n",
       "2      Jan 8, 2016 - YANG - what would it have earned...\n",
       "3      Stupid Noob Makes Stupid Mistake\\nHey all\\n\\nS...\n",
       "4      small position on aapl should I keep for divid...\n",
       "                             ...                        \n",
       "264    DM is now DOLN.\\nJust letting you guys know th...\n",
       "265    $PGNX, how to interpret positive results?\\nPGN...\n",
       "266    UnderArmour (UA) up ~$20 right now. Sell or Ho...\n",
       "267    Is Yahoo a safe buy?\\nIt was at over $41 a sha...\n",
       "268    Could ZMSPF be the next SGLB? Zecotek just ent...\n",
       "Name: text, Length: 269, dtype: object"
      ]
     },
     "execution_count": 17,
     "metadata": {},
     "output_type": "execute_result"
    }
   ],
   "source": [
    "df['text']"
   ]
  },
  {
   "cell_type": "code",
   "execution_count": null,
   "id": "b5908765-3f93-4469-963a-ed0a3d86082b",
   "metadata": {},
   "outputs": [],
   "source": []
  }
 ],
 "metadata": {
  "kernelspec": {
   "display_name": "Python 3",
   "language": "python",
   "name": "python3"
  },
  "language_info": {
   "codemirror_mode": {
    "name": "ipython",
    "version": 3
   },
   "file_extension": ".py",
   "mimetype": "text/x-python",
   "name": "python",
   "nbconvert_exporter": "python",
   "pygments_lexer": "ipython3",
   "version": "3.8.8"
  }
 },
 "nbformat": 4,
 "nbformat_minor": 5
}
