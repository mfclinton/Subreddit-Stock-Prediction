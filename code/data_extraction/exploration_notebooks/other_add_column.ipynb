{
 "cells": [
  {
   "cell_type": "code",
   "execution_count": 29,
   "id": "average-roberts",
   "metadata": {},
   "outputs": [],
   "source": [
    "from psaw import PushshiftAPI\n",
    "import praw\n",
    "import pprint\n",
    "from datetime import datetime, timedelta\n",
    "import pandas as pd\n",
    "import os\n",
    "import time"
   ]
  },
  {
   "cell_type": "code",
   "execution_count": 3,
   "id": "offshore-arizona",
   "metadata": {},
   "outputs": [
    {
     "name": "stdout",
     "output_type": "stream",
     "text": [
      "/home/mfclinton/Documents/Repos/Subreddit-Stock-Prediction\n"
     ]
    }
   ],
   "source": [
    "import os\n",
    "os.chdir('..')\n",
    "os.chdir('..')\n",
    "os.chdir('..')\n",
    "cwd = os.getcwd()\n",
    "print(cwd)"
   ]
  },
  {
   "cell_type": "code",
   "execution_count": 2,
   "id": "improved-peninsula",
   "metadata": {},
   "outputs": [],
   "source": [
    "# Reddit Agent Authorization Data\n",
    "client_id = \"tpammI9-HYB25Q\"\n",
    "secret_token = \"aDm9bgjz6Vn1QtePAEEzWNJ5wyforg\"\n",
    "username=\"AbbieSnoozeAlot\"\n",
    "password=\"E2zT9vV7GxWtawK\"\n",
    "agent=\"SrsBot/0.0.1\"\n",
    "\n",
    "reddit = praw.Reddit(\n",
    "    client_id=client_id,\n",
    "    client_secret=secret_token,\n",
    "    user_agent=agent,\n",
    "    username=username,\n",
    "    password=password,\n",
    ")\n",
    "\n",
    "reddit.read_only = True\n",
    "api = PushshiftAPI(reddit)"
   ]
  },
  {
   "cell_type": "code",
   "execution_count": 42,
   "id": "binary-absence",
   "metadata": {},
   "outputs": [],
   "source": [
    "subreddit_list = [\n",
    "#     \"securityanalysis\",\n",
    "#     \"investing\",\n",
    "#     \"stocks\",\n",
    "#     \"stockmarket\",\n",
    "#     \"economy\",\n",
    "#     \"globalmarkets\",\n",
    "#     \"dividends\",\n",
    "#     \"daytrading\",\n",
    "#     \"economy\",\n",
    "#     \"wallstreetbets\",\n",
    "    \"options\"\n",
    "]"
   ]
  },
  {
   "cell_type": "code",
   "execution_count": 44,
   "id": "addressed-trunk",
   "metadata": {},
   "outputs": [
    {
     "name": "stdout",
     "output_type": "stream",
     "text": [
      "options\n",
      "0.0\n",
      "0.07114399544678429\n",
      "0.14228799089356858\n",
      "0.21343198634035287\n",
      "0.28457598178713717\n",
      "0.35571997723392146\n",
      "0.42686397268070575\n",
      "0.49800796812749004\n",
      "0.5691519635742743\n",
      "0.6402959590210586\n",
      "0.7114399544678429\n",
      "0.7825839499146272\n",
      "0.8537279453614115\n",
      "0.9248719408081958\n",
      "0.9960159362549801\n"
     ]
    }
   ],
   "source": [
    "for subreddit in subreddit_list:\n",
    "    csv = f\"data/{subreddit}_submissions.csv\"\n",
    "    data = pd.read_csv(f\"data/{subreddit}_submissions.csv\")\n",
    "    titles = [None] * data.shape[0]\n",
    "    print(subreddit)\n",
    "    for idx, name in enumerate(data[\"name\"]):\n",
    "        result = reddit.submission(id=name.replace(\"t3_\", \"\"))\n",
    "        titles[idx] = result.title\n",
    "        time.sleep(.0001)\n",
    "        if(idx % 1000 == 0):\n",
    "            print(idx / data.shape[0])\n",
    "    \n",
    "#     insert_idx = len(data.columns)\n",
    "    insert_idx = 1\n",
    "    data.insert(insert_idx, \"title\", titles)\n",
    "    data.to_csv(f\"{subreddit}_submission.csv\", mode=\"w\", header=True, index=False)"
   ]
  },
  {
   "cell_type": "code",
   "execution_count": null,
   "id": "square-calgary",
   "metadata": {},
   "outputs": [],
   "source": []
  }
 ],
 "metadata": {
  "kernelspec": {
   "display_name": "Python 3",
   "language": "python",
   "name": "python3"
  },
  "language_info": {
   "codemirror_mode": {
    "name": "ipython",
    "version": 3
   },
   "file_extension": ".py",
   "mimetype": "text/x-python",
   "name": "python",
   "nbconvert_exporter": "python",
   "pygments_lexer": "ipython3",
   "version": "3.8.8"
  }
 },
 "nbformat": 4,
 "nbformat_minor": 5
}
