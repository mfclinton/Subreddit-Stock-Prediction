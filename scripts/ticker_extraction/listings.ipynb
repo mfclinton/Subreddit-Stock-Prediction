{
 "cells": [
  {
   "cell_type": "markdown",
   "id": "6e708f73-eda2-48bf-879b-721db4e0473f",
   "metadata": {},
   "source": [
    "source: \n",
    "https://www.nasdaq.com/market-activity/stocks/screener?exchange=amex&letter=0&render=download\n",
    "https://www.nasdaq.com/market-activity/stocks/screener?exchange=nasdaq&letter=0&render=download\n",
    "https://www.nasdaq.com/market-activity/stocks/screener?exchange=nyse&letter=0&render=download"
   ]
  },
  {
   "cell_type": "code",
   "execution_count": null,
   "id": "1a1a57dc-f835-467c-8f8d-0cd72f5cb9c4",
   "metadata": {},
   "outputs": [],
   "source": [
    "import pandas as pd\n"
   ]
  },
  {
   "cell_type": "code",
   "execution_count": 7,
   "id": "018f7e4e-dc8d-4871-bef6-d340baa17712",
   "metadata": {},
   "outputs": [
    {
     "name": "stdout",
     "output_type": "stream",
     "text": [
      "     Symbol                                          Name\n",
      "0      AAMC          Altisource Asset Management Corp Com\n",
      "1       AAU           Almaden Minerals Ltd. Common Shares\n",
      "2       ACU         Acme United Corporation. Common Stock\n",
      "3       ACY                AeroCentury Corp. Common Stock\n",
      "4      ADRA  Adara Acquisition Corp. Class A Common Stock\n",
      "...     ...                                           ...\n",
      "4107  ZWRKU                Z-Work Acquisition Corp. Units\n",
      "4108  ZWRKW              Z-Work Acquisition Corp. Warrant\n",
      "4109     ZY                    Zymergen Inc. Common Stock\n",
      "4110   ZYNE     Zynerba Pharmaceuticals Inc. Common Stock\n",
      "4111   ZYXI                       Zynex Inc. Common Stock\n",
      "\n",
      "[7486 rows x 2 columns]\n"
     ]
    }
   ],
   "source": [
    "amex = pd.read_csv(\"../../data/ExchangeListings/AMEX.csv\")\n",
    "nasdaq = pd.read_csv(\"../../data/ExchangeListings/NASDAQ.csv\")\n",
    "nyse = pd.read_csv(\"../../data/ExchangeListings/NYSE.csv\")\n",
    "amex = amex[['Symbol', 'Name']].copy()\n",
    "nasdaq = nasdaq[['Symbol', 'Name']].copy()\n",
    "nyse = nyse[['Symbol', 'Name']].copy()\n",
    "frames = [amex, nyse, nasdaq]\n",
    "combined = pd.concat(frames)\n",
    "print(combined)\n",
    "combined.to_csv(\"../../data/ExchangeListings/tickers.csv\")"
   ]
  }
 ],
 "metadata": {
  "kernelspec": {
   "display_name": "Python 3",
   "language": "python",
   "name": "python3"
  },
  "language_info": {
   "codemirror_mode": {
    "name": "ipython",
    "version": 3
   },
   "file_extension": ".py",
   "mimetype": "text/x-python",
   "name": "python",
   "nbconvert_exporter": "python",
   "pygments_lexer": "ipython3",
   "version": "3.7.4"
  }
 },
 "nbformat": 4,
 "nbformat_minor": 5
}
