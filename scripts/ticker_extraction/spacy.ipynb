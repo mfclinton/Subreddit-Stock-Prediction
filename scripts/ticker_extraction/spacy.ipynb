{
 "cells": [
  {
   "cell_type": "code",
   "execution_count": 11,
   "id": "125b5907-3a94-409e-bf1c-000f3ea0d23e",
   "metadata": {},
   "outputs": [],
   "source": [
    "import spacy\n",
    "from spacy import displacy\n",
    "import pandas as pd\n",
    "from googlesearch import search\n",
    "import glob\n",
    "from collections import Counter\n",
    "\n",
    "nlp = spacy.load(\"en_core_web_lg\")\n",
    "ticks = pd.read_csv(\"../../data/ExchangeListings/tickers.csv\")"
   ]
  },
  {
   "cell_type": "code",
   "execution_count": 12,
   "id": "b641abeb-d85e-43c6-9894-c6cf4060ba96",
   "metadata": {},
   "outputs": [],
   "source": [
    "path = r'../../data' # use your path\n",
    "all_files = glob.glob(path + \"/*_submission.csv\")\n",
    "\n",
    "li = []\n",
    "\n",
    "for filename in all_files:\n",
    "    df = pd.read_csv(filename, index_col=None, header=0)\n",
    "    li.append(df)\n",
    "\n",
    "df = pd.concat(li, axis=0, ignore_index=True)"
   ]
  },
  {
   "cell_type": "code",
   "execution_count": 2,
   "id": "608573e4-0c56-41cf-886a-07b796ee2b42",
   "metadata": {},
   "outputs": [],
   "source": [
    "#https://github.com/MakonnenMak/company-name-to-ticker-yahoo-finance/blob/master/name_to_tick.py\n",
    "def name_convert(self):\n",
    "\n",
    "    searchval = 'yahoo finance '+self\n",
    "    link = []\n",
    "    #limits to the first link\n",
    "    for url in search(searchval, lang='es', num_results=1):\n",
    "        link.append(url)\n",
    "\n",
    "    link = str(link[0])\n",
    "    link=link.split(\"/\")\n",
    "    if link[-1]=='':\n",
    "        ticker=link[-2]\n",
    "    else:\n",
    "        x=link[-1].split('=')\n",
    "        ticker=x[-1]\n",
    "\n",
    "    return(ticker)"
   ]
  },
  {
   "cell_type": "code",
   "execution_count": 19,
   "id": "6811ec59-6774-42c9-b8c8-7260ce484525",
   "metadata": {},
   "outputs": [],
   "source": [
    "orgCnt = Counter()\n",
    "\n",
    "\n",
    "for index, row in df.iterrows():\n",
    "    text = f\"{row['title']}\\n{row['text']}\"\n",
    "    doc = nlp(text)\n",
    "    for e in doc.ents:\n",
    "        if e.label_ == \"ORG\":\n",
    "            orgCnt[e.text] += 1\n",
    "            "
   ]
  },
  {
   "cell_type": "code",
   "execution_count": 20,
   "id": "043ca65a-b5f6-4cb9-85db-abd6d53962f5",
   "metadata": {},
   "outputs": [],
   "source": [
    "with open(\"org_counts.csv\", encoding='utf-8-sig', mode='w') as fp:\n",
    "    fp.write('KMC,freq\\n')  \n",
    "    for tag, count in orgCnt.items():  \n",
    "        fp.write('{},{}\\n'.format(tag, count))  "
   ]
  },
  {
   "cell_type": "code",
   "execution_count": 26,
   "id": "6ed53c24-6f52-4fd4-ade4-8d96eac5ba69",
   "metadata": {},
   "outputs": [],
   "source": [
    "import pickle\n",
    "with open( \"orgCnt.p\", \"wb\") as f:\n",
    "    pickle.dump(orgCnt, f)"
   ]
  }
 ],
 "metadata": {
  "kernelspec": {
   "display_name": "Python 3",
   "language": "python",
   "name": "python3"
  },
  "language_info": {
   "codemirror_mode": {
    "name": "ipython",
    "version": 3
   },
   "file_extension": ".py",
   "mimetype": "text/x-python",
   "name": "python",
   "nbconvert_exporter": "python",
   "pygments_lexer": "ipython3",
   "version": "3.7.4"
  }
 },
 "nbformat": 4,
 "nbformat_minor": 5
}
