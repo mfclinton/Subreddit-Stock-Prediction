{
 "cells": [
  {
   "cell_type": "code",
   "execution_count": 11,
   "id": "b052e2b6-ad01-4169-81e0-9e3d3f6afebc",
   "metadata": {},
   "outputs": [],
   "source": [
    "import requests\n",
    "from collections import Counter\n",
    "from tqdm import tqdm\n",
    "from time import sleep\n",
    "import pickle"
   ]
  },
  {
   "cell_type": "code",
   "execution_count": 12,
   "id": "9e52c9ce-81fc-41b2-9ab6-d3fde5f4107e",
   "metadata": {},
   "outputs": [],
   "source": [
    "subscription_key = 'REDACTED'\n",
    "search_url = \"https://api.bing.microsoft.com/v7.0/search\"\n",
    "headers = {\"Ocp-Apim-Subscription-Key\": subscription_key}"
   ]
  },
  {
   "cell_type": "code",
   "execution_count": 13,
   "id": "80d10641-5805-429c-b5ea-a689f5a3d220",
   "metadata": {},
   "outputs": [],
   "source": [
    "#https://github.com/MakonnenMak/company-name-to-ticker-yahoo-finance/blob/master/name_to_tick.py\n",
    "def name_convert(self):\n",
    "\n",
    "    searchval = 'yahoo finance '+self\n",
    "    params = {\"q\": searchval, \"textDecorations\": True, \"textFormat\": \"HTML\"}\n",
    "    response = requests.get(search_url, headers=headers, params=params)\n",
    "    response.raise_for_status()\n",
    "    search_results = response.json()\n",
    "\n",
    "    link = search_results['webPages']['value'][0]['url']\n",
    "    link=link.split(\"/\")\n",
    "    if link[-1]=='':\n",
    "        if link[-3] == 'quote':\n",
    "            ticker=link[-2]\n",
    "        else:\n",
    "            return -1\n",
    "    else:\n",
    "        if link[-2] == 'quote':\n",
    "            x=link[-1].split('=')\n",
    "            ticker=x[-1]\n",
    "        else:\n",
    "            return -1\n",
    "\n",
    "    return(ticker)"
   ]
  },
  {
   "cell_type": "code",
   "execution_count": 14,
   "id": "4e1c1d98-e6ea-462b-bd43-75b1225cc958",
   "metadata": {},
   "outputs": [
    {
     "data": {
      "text/plain": [
       "'MSFT'"
      ]
     },
     "execution_count": 14,
     "metadata": {},
     "output_type": "execute_result"
    }
   ],
   "source": [
    "name_convert('Microsoft')"
   ]
  },
  {
   "cell_type": "code",
   "execution_count": 15,
   "id": "656ba48d-d8d0-4fc7-97f7-9b779f9565a2",
   "metadata": {},
   "outputs": [],
   "source": [
    "with open( \"orgCntPURGED.p\", \"rb\") as f:\n",
    "    orgCnt = pickle.load(f)\n",
    "    \n",
    "with open( \"tickDict.p\", \"rb\") as f:\n",
    "    tickDict = pickle.load(f)"
   ]
  },
  {
   "cell_type": "code",
   "execution_count": 16,
   "id": "dafcd61d-6ece-4ea2-b4f6-370263f462ab",
   "metadata": {},
   "outputs": [],
   "source": [
    "failures = []\n",
    "timeouts = []"
   ]
  },
  {
   "cell_type": "code",
   "execution_count": 28,
   "id": "0b06f15d-9039-4e36-a41b-877c53806db1",
   "metadata": {},
   "outputs": [
    {
     "name": "stderr",
     "output_type": "stream",
     "text": [
      " 23%|██████████████████                                                           | 2691/11472 [17:13<57:13,  2.56it/s]"
     ]
    },
    {
     "name": "stdout",
     "output_type": "stream",
     "text": [
      "'webPages'\n"
     ]
    },
    {
     "name": "stderr",
     "output_type": "stream",
     "text": [
      " 43%|█████████████████████████████████▍                                           | 4976/11472 [35:56<47:34,  2.28it/s]"
     ]
    },
    {
     "name": "stdout",
     "output_type": "stream",
     "text": [
      "'webPages'\n"
     ]
    },
    {
     "name": "stderr",
     "output_type": "stream",
     "text": [
      " 79%|███████████████████████████████████████████████████████████▎               | 9066/11472 [1:10:43<20:55,  1.92it/s]"
     ]
    },
    {
     "name": "stdout",
     "output_type": "stream",
     "text": [
      "'webPages'\n",
      "'webPages'\n",
      "'webPages'\n",
      "'webPages'\n",
      "'webPages'\n",
      "'webPages'\n"
     ]
    },
    {
     "name": "stderr",
     "output_type": "stream",
     "text": [
      "100%|██████████████████████████████████████████████████████████████████████████| 11472/11472 [1:31:42<00:00,  2.08it/s]\n"
     ]
    }
   ],
   "source": [
    "orgList = list(orgCnt)\n",
    "\n",
    "for x in tqdm(orgList):\n",
    "    while x not in tickDict:\n",
    "        try:\n",
    "            res = name_convert(x)\n",
    "            if res == -1:\n",
    "                failures.append(x)\n",
    "                del orgCnt[x]\n",
    "            else:\n",
    "                tickDict[x] = res\n",
    "            break\n",
    "        except Exception as e:\n",
    "            print(e)\n",
    "            sleep(1)"
   ]
  },
  {
   "cell_type": "code",
   "execution_count": 29,
   "id": "0ca2ad97-b41a-4744-bcd3-45fcfc7defa8",
   "metadata": {},
   "outputs": [
    {
     "data": {
      "text/plain": [
       "6285"
      ]
     },
     "execution_count": 29,
     "metadata": {},
     "output_type": "execute_result"
    }
   ],
   "source": [
    "len(orgCnt)"
   ]
  },
  {
   "cell_type": "code",
   "execution_count": 32,
   "id": "8070323a-04fc-4579-aea6-7d66d5ede1b9",
   "metadata": {},
   "outputs": [],
   "source": [
    "with open( \"tickDict.p\", \"wb\") as f:\n",
    "    pickle.dump(tickDict, f)"
   ]
  },
  {
   "cell_type": "code",
   "execution_count": 33,
   "id": "b7185536-edc2-44b1-984e-ca6414353275",
   "metadata": {},
   "outputs": [],
   "source": [
    "with open( \"orgCntPURGED.p\", \"wb\") as f:\n",
    "    pickle.dump(orgCnt, f)"
   ]
  }
 ],
 "metadata": {
  "kernelspec": {
   "display_name": "Python 3",
   "language": "python",
   "name": "python3"
  },
  "language_info": {
   "codemirror_mode": {
    "name": "ipython",
    "version": 3
   },
   "file_extension": ".py",
   "mimetype": "text/x-python",
   "name": "python",
   "nbconvert_exporter": "python",
   "pygments_lexer": "ipython3",
   "version": "3.7.4"
  }
 },
 "nbformat": 4,
 "nbformat_minor": 5
}
